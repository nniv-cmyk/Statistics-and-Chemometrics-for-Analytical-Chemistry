{
 "cells": [
  {
   "cell_type": "markdown",
   "id": "bccded70",
   "metadata": {},
   "source": [
    "# Chapter 3"
   ]
  },
  {
   "cell_type": "markdown",
   "id": "c93af1e6",
   "metadata": {},
   "source": [
    "Example 3.2.1\n",
    "\n",
    "In a new method for determining selenourea in water the following values were\n",
    "obtained for tap water samples spiked with 50 ng ml-1 of selenourea:\n",
    "50.4, 50.7, 49.1, 49.0, 51.1 ng ml-1\n",
    "(Aller, A.J. and Robles, L.C., 1998 Analyst, 123: 919).\n",
    "Is there any evidence of systematic error?"
   ]
  },
  {
   "cell_type": "code",
   "execution_count": 1,
   "id": "b57fbcf9",
   "metadata": {},
   "outputs": [
    {
     "name": "stdout",
     "output_type": "stream",
     "text": [
      "Sample Mean: 50.06\n",
      "t-Statistic: 0.14\n",
      "Critical t-Value: 2.78\n",
      "Fail to reject the null hypothesis: No evidence of systematic error.\n"
     ]
    }
   ],
   "source": [
    "import numpy as np\n",
    "from scipy.stats import t\n",
    "\n",
    "# Data\n",
    "data = np.array([50.4, 50.7, 49.1, 49.0, 51.1])\n",
    "\n",
    "# Sample mean and standard deviation\n",
    "mean = np.mean(data)\n",
    "std_dev = np.std(data, ddof=1)\n",
    "n = len(data)\n",
    "\n",
    "# Hypothesized mean\n",
    "mu = 50\n",
    "\n",
    "# Calculate the t-statistic\n",
    "t_statistic = (mean - mu) / (std_dev / np.sqrt(n))\n",
    "\n",
    "# Degrees of freedom\n",
    "df = n - 1\n",
    "\n",
    "# Critical t-value for 95% confidence interval (two-tailed)\n",
    "t_critical = t.ppf(0.975, df)\n",
    "\n",
    "# Determine if systematic error is evident\n",
    "print(f\"Sample Mean: {mean:.2f}\")\n",
    "print(f\"t-Statistic: {t_statistic:.2f}\")\n",
    "print(f\"Critical t-Value: {t_critical:.2f}\")\n",
    "\n",
    "# Decision\n",
    "if abs(t_statistic) > t_critical:\n",
    "    print(\"Reject the null hypothesis: Evidence of systematic error.\")\n",
    "else:\n",
    "    print(\"Fail to reject the null hypothesis: No evidence of systematic error.\")\n"
   ]
  },
  {
   "cell_type": "markdown",
   "id": "c81739f1",
   "metadata": {},
   "source": [
    "Example 3.3.1\n",
    "In a comparison of two methods for the determination of chromium in rye\n",
    "grass, the following results (mg kg-1 Cr) were obtained:\n",
    "Method 1: mean = 1.48; standard deviation 0.28\n",
    "Method 2: mean = 2.33; standard deviation 0.31\n",
    "For each method 5 determinations were made.\n",
    "(Sahuquillo, A., Rubio, R., and Rauret, G. 1999, Analyst, 124: 1).\n",
    "Do these two methods give results with means that differ significantly?"
   ]
  },
  {
   "cell_type": "code",
   "execution_count": 2,
   "id": "33b239fa",
   "metadata": {},
   "outputs": [
    {
     "name": "stdout",
     "output_type": "stream",
     "text": [
      "t-Statistic: -4.5499\n",
      "Degrees of Freedom: 7.92\n",
      "p-Value: 0.0019\n",
      "Reject the null hypothesis: There is a significant difference between the two methods.\n"
     ]
    }
   ],
   "source": [
    "import numpy as np\n",
    "from scipy.stats import t\n",
    "\n",
    "# Given data for both methods\n",
    "mean1, std_dev1, n1 = 1.48, 0.28, 5\n",
    "mean2, std_dev2, n2 = 2.33, 0.31, 5\n",
    "\n",
    "# Calculate the t-statistic using Welch's formula\n",
    "t_statistic = (mean1 - mean2) / np.sqrt((std_dev1**2 / n1) + (std_dev2**2 / n2))\n",
    "\n",
    "# Calculate the degrees of freedom for Welch's t-test\n",
    "df = ((std_dev1**2 / n1 + std_dev2**2 / n2)**2 /\n",
    "      ((std_dev1**2 / n1)**2 / (n1 - 1) + (std_dev2**2 / n2)**2 / (n2 - 1)))\n",
    "\n",
    "# Calculate the p-value from the t-distribution\n",
    "p_value = t.sf(np.abs(t_statistic), df) * 2  # Multiply by 2 for two-tailed test\n",
    "\n",
    "# Print results\n",
    "print(f\"t-Statistic: {t_statistic:.4f}\")\n",
    "print(f\"Degrees of Freedom: {df:.2f}\")\n",
    "print(f\"p-Value: {p_value:.4f}\")\n",
    "\n",
    "# Decision based on p-value\n",
    "alpha = 0.05\n",
    "if p_value < alpha:\n",
    "    print(\"Reject the null hypothesis: There is a significant difference between the two methods.\")\n",
    "else:\n",
    "    print(\"Fail to reject the null hypothesis: There is no significant difference between the two methods.\")\n"
   ]
  },
  {
   "cell_type": "markdown",
   "id": "4ecf0a5f",
   "metadata": {},
   "source": [
    "Example 3.3.2\n",
    "In a series of experiments on the determination of tin in foodstuffs, samples\n",
    "were boiled with hydrochloric acid under reflux for different times. Some of the\n",
    "results are shown below:\n",
    "Refluxing time (min) Tin found (mg kg-1)\n",
    "30\n",
    "75\n",
    "55, 57, 59, 56, 56, 59\n",
    "57, 55, 58, 59, 59, 59\n",
    "(Analytical Methods Committee, 1983. Analyst, 108: 109).\n",
    "Does the mean amount of tin found differ significantly for the two boiling times?"
   ]
  },
  {
   "cell_type": "code",
   "execution_count": 3,
   "id": "ee702fcf",
   "metadata": {},
   "outputs": [
    {
     "name": "stdout",
     "output_type": "stream",
     "text": [
      "t-Statistic: -0.8811\n",
      "Degrees of Freedom: 9.98\n",
      "p-Value: 0.3990\n",
      "Fail to reject the null hypothesis: There is no significant difference in the mean tin amounts.\n"
     ]
    }
   ],
   "source": [
    "import numpy as np\n",
    "from scipy.stats import t\n",
    "\n",
    "# Data\n",
    "data_30min = np.array([55, 57, 59, 56, 56, 59])\n",
    "data_75min = np.array([57, 55, 58, 59, 59, 59])\n",
    "\n",
    "# Calculate means and standard deviations\n",
    "mean_30min = np.mean(data_30min)\n",
    "mean_75min = np.mean(data_75min)\n",
    "std_dev_30min = np.std(data_30min, ddof=1)\n",
    "std_dev_75min = np.std(data_75min, ddof=1)\n",
    "\n",
    "# Sample sizes\n",
    "n_30min = len(data_30min)\n",
    "n_75min = len(data_75min)\n",
    "\n",
    "# Calculate t-statistic using Welch's formula\n",
    "numerator = mean_30min - mean_75min\n",
    "denominator = np.sqrt((std_dev_30min**2 / n_30min) + (std_dev_75min**2 / n_75min))\n",
    "t_statistic = numerator / denominator\n",
    "\n",
    "# Degrees of freedom using Welch-Satterthwaite equation\n",
    "df = ((std_dev_30min**2 / n_30min + std_dev_75min**2 / n_75min)**2 /\n",
    "      ((std_dev_30min**2 / n_30min)**2 / (n_30min - 1) + (std_dev_75min**2 / n_75min)**2 / (n_75min - 1)))\n",
    "\n",
    "# Calculate p-value\n",
    "p_value = t.sf(np.abs(t_statistic), df) * 2  # two-tailed test\n",
    "\n",
    "# Output results\n",
    "print(f\"t-Statistic: {t_statistic:.4f}\")\n",
    "print(f\"Degrees of Freedom: {df:.2f}\")\n",
    "print(f\"p-Value: {p_value:.4f}\")\n",
    "\n",
    "# Interpretation\n",
    "if p_value < 0.05:\n",
    "    print(\"Reject the null hypothesis: There is a significant difference in the mean tin amounts.\")\n",
    "else:\n",
    "    print(\"Fail to reject the null hypothesis: There is no significant difference in the mean tin amounts.\")\n"
   ]
  },
  {
   "cell_type": "markdown",
   "id": "0da29c53",
   "metadata": {},
   "source": [
    "Example 3.3.3\n",
    "The data below give the concentration of thiol (mM) in the blood lysate of the\n",
    "blood of two groups of volunteers, the first group being ‘normal’ and the second\n",
    "suffering from rheumatoid arthritis:\n",
    "\n",
    "\n",
    "Normal: 1.84, 1.92, 1.94, 1.92, 1.85, 1.91, 2.07\n",
    "\n",
    "Rheumatoid: 2.81, 4.06, 3.62, 3.27, 3.27, 3.76\n",
    "\n",
    "(Banford, J.C., Brown, D.H., McConnell, A.A., McNeil, C.J., Smith, W.E.,\n",
    "Hazelton, R.A., and Sturrock, R.D. 1982 Analyst, 107: 195)\n",
    "The null hypothesis adopted is that the mean concentration of thiol is the same\n",
    "for the two groups."
   ]
  },
  {
   "cell_type": "code",
   "execution_count": 4,
   "id": "05d416df",
   "metadata": {},
   "outputs": [
    {
     "name": "stdout",
     "output_type": "stream",
     "text": [
      "Mean (Normal): 1.92, Mean (Rheumatoid): 3.46\n",
      "t-Statistic: -8.4772, Degrees of Freedom: 5.25, p-Value: 0.0003\n",
      "Reject the null hypothesis: There is a significant difference in the mean thiol concentrations.\n"
     ]
    }
   ],
   "source": [
    "import numpy as np\n",
    "from scipy.stats import t\n",
    "\n",
    "# Data\n",
    "normal = np.array([1.84, 1.92, 1.94, 1.92, 1.85, 1.91, 2.07])\n",
    "rheumatoid = np.array([2.81, 4.06, 3.62, 3.27, 3.27, 3.76])\n",
    "\n",
    "# Calculate means and standard deviations\n",
    "mean_normal = np.mean(normal)\n",
    "mean_rheumatoid = np.mean(rheumatoid)\n",
    "std_dev_normal = np.std(normal, ddof=1)\n",
    "std_dev_rheumatoid = np.std(rheumatoid, ddof=1)\n",
    "\n",
    "# Sample sizes\n",
    "n_normal = len(normal)\n",
    "n_rheumatoid = len(rheumatoid)\n",
    "\n",
    "# Calculate t-statistic using Welch's formula\n",
    "numerator = mean_normal - mean_rheumatoid\n",
    "denominator = np.sqrt((std_dev_normal**2 / n_normal) + (std_dev_rheumatoid**2 / n_rheumatoid))\n",
    "t_statistic = numerator / denominator\n",
    "\n",
    "# Degrees of freedom using Welch-Satterthwaite equation\n",
    "df = ((std_dev_normal**2 / n_normal + std_dev_rheumatoid**2 / n_rheumatoid)**2 /\n",
    "      ((std_dev_normal**2 / n_normal)**2 / (n_normal - 1) + (std_dev_rheumatoid**2 / n_rheumatoid)**2 / (n_rheumatoid - 1)))\n",
    "\n",
    "# Calculate p-value\n",
    "p_value = t.sf(np.abs(t_statistic), df) * 2  # two-tailed test\n",
    "\n",
    "# Output results\n",
    "print(f\"Mean (Normal): {mean_normal:.2f}, Mean (Rheumatoid): {mean_rheumatoid:.2f}\")\n",
    "print(f\"t-Statistic: {t_statistic:.4f}, Degrees of Freedom: {df:.2f}, p-Value: {p_value:.4f}\")\n",
    "\n",
    "# Interpretation\n",
    "if p_value < 0.05:\n",
    "    print(\"Reject the null hypothesis: There is a significant difference in the mean thiol concentrations.\")\n",
    "else:\n",
    "    print(\"Fail to reject the null hypothesis: There is no significant difference in the mean thiol concentrations.\")\n"
   ]
  },
  {
   "cell_type": "code",
   "execution_count": 5,
   "id": "c453de48",
   "metadata": {},
   "outputs": [
    {
     "data": {
      "text/html": [
       "<div>\n",
       "<style scoped>\n",
       "    .dataframe tbody tr th:only-of-type {\n",
       "        vertical-align: middle;\n",
       "    }\n",
       "\n",
       "    .dataframe tbody tr th {\n",
       "        vertical-align: top;\n",
       "    }\n",
       "\n",
       "    .dataframe thead th {\n",
       "        text-align: right;\n",
       "    }\n",
       "</style>\n",
       "<table border=\"1\" class=\"dataframe\">\n",
       "  <thead>\n",
       "    <tr style=\"text-align: right;\">\n",
       "      <th></th>\n",
       "      <th>UV Spectrometric Assay (mg/kg)</th>\n",
       "      <th>Near-infrared Reflectance Spectroscopy (mg/kg)</th>\n",
       "    </tr>\n",
       "    <tr>\n",
       "      <th>Batch</th>\n",
       "      <th></th>\n",
       "      <th></th>\n",
       "    </tr>\n",
       "  </thead>\n",
       "  <tbody>\n",
       "    <tr>\n",
       "      <th>1</th>\n",
       "      <td>84.63</td>\n",
       "      <td>83.15</td>\n",
       "    </tr>\n",
       "    <tr>\n",
       "      <th>2</th>\n",
       "      <td>84.38</td>\n",
       "      <td>83.72</td>\n",
       "    </tr>\n",
       "    <tr>\n",
       "      <th>3</th>\n",
       "      <td>84.08</td>\n",
       "      <td>83.84</td>\n",
       "    </tr>\n",
       "    <tr>\n",
       "      <th>4</th>\n",
       "      <td>84.41</td>\n",
       "      <td>84.20</td>\n",
       "    </tr>\n",
       "    <tr>\n",
       "      <th>5</th>\n",
       "      <td>83.82</td>\n",
       "      <td>83.92</td>\n",
       "    </tr>\n",
       "    <tr>\n",
       "      <th>6</th>\n",
       "      <td>83.55</td>\n",
       "      <td>84.16</td>\n",
       "    </tr>\n",
       "    <tr>\n",
       "      <th>7</th>\n",
       "      <td>83.92</td>\n",
       "      <td>84.02</td>\n",
       "    </tr>\n",
       "    <tr>\n",
       "      <th>8</th>\n",
       "      <td>83.69</td>\n",
       "      <td>83.60</td>\n",
       "    </tr>\n",
       "    <tr>\n",
       "      <th>9</th>\n",
       "      <td>84.06</td>\n",
       "      <td>84.13</td>\n",
       "    </tr>\n",
       "    <tr>\n",
       "      <th>10</th>\n",
       "      <td>84.03</td>\n",
       "      <td>84.24</td>\n",
       "    </tr>\n",
       "  </tbody>\n",
       "</table>\n",
       "</div>"
      ],
      "text/plain": [
       "       UV Spectrometric Assay (mg/kg)  \\\n",
       "Batch                                   \n",
       "1                               84.63   \n",
       "2                               84.38   \n",
       "3                               84.08   \n",
       "4                               84.41   \n",
       "5                               83.82   \n",
       "6                               83.55   \n",
       "7                               83.92   \n",
       "8                               83.69   \n",
       "9                               84.06   \n",
       "10                              84.03   \n",
       "\n",
       "       Near-infrared Reflectance Spectroscopy (mg/kg)  \n",
       "Batch                                                  \n",
       "1                                               83.15  \n",
       "2                                               83.72  \n",
       "3                                               83.84  \n",
       "4                                               84.20  \n",
       "5                                               83.92  \n",
       "6                                               84.16  \n",
       "7                                               84.02  \n",
       "8                                               83.60  \n",
       "9                                               84.13  \n",
       "10                                              84.24  "
      ]
     },
     "execution_count": 5,
     "metadata": {},
     "output_type": "execute_result"
    }
   ],
   "source": [
    "import pandas as pd\n",
    "\n",
    "# Create data dictionary\n",
    "data = {\n",
    "    \"Batch\": list(range(1, 11)),\n",
    "    \"UV Spectrometric Assay (mg/kg)\": [84.63, 84.38, 84.08, 84.41, 83.82, 83.55, 83.92, 83.69, 84.06, 84.03],\n",
    "    \"Near-infrared Reflectance Spectroscopy (mg/kg)\": [83.15, 83.72, 83.84, 84.20, 83.92, 84.16, 84.02, 83.60, 84.13, 84.24]\n",
    "}\n",
    "\n",
    "# Create DataFrame\n",
    "df = pd.DataFrame(data)\n",
    "\n",
    "# Set Batch as the index\n",
    "df.set_index('Batch', inplace=True)\n",
    "\n",
    "# Display DataFrame\n",
    "df\n"
   ]
  },
  {
   "cell_type": "markdown",
   "id": "19f37e7b",
   "metadata": {},
   "source": [
    "Example 3.4.1\n",
    "Test whether there is a significant difference between the results obtained by the\n",
    "two methods in Table 3.1."
   ]
  },
  {
   "cell_type": "code",
   "execution_count": 6,
   "id": "93cf0709",
   "metadata": {},
   "outputs": [
    {
     "name": "stdout",
     "output_type": "stream",
     "text": [
      "t-Statistic: 0.882\n",
      "p-Value: 0.4007\n",
      "Fail to reject the null hypothesis: There is no significant difference between the two methods.\n"
     ]
    }
   ],
   "source": [
    "import numpy as np\n",
    "from scipy.stats import ttest_rel #paired t-test.\n",
    "\n",
    "# Data for both methods\n",
    "method1 = np.array([84.63, 84.38, 84.08, 84.41, 83.82, 83.55, 83.92, 83.69, 84.06, 84.03])\n",
    "method2 = np.array([83.15, 83.72, 83.84, 84.20, 83.92, 84.16, 84.02, 83.60, 84.13, 84.24])\n",
    "\n",
    "# Calculate differences\n",
    "differences = method1 - method2\n",
    "\n",
    "# Perform the paired t-test\n",
    "t_stat, p_value = ttest_rel(method1, method2)\n",
    "\n",
    "# Output results\n",
    "print(f\"t-Statistic: {t_stat:.3f}\")\n",
    "print(f\"p-Value: {p_value:.4f}\")\n",
    "\n",
    "# Decision making based on p-value\n",
    "if p_value < 0.05:\n",
    "    print(\"Reject the null hypothesis: There is a significant difference between the two methods.\")\n",
    "else:\n",
    "    print(\"Fail to reject the null hypothesis: There is no significant difference between the two methods.\")\n"
   ]
  },
  {
   "cell_type": "markdown",
   "id": "d1bb863e",
   "metadata": {},
   "source": [
    "Example 3.5.1\n",
    "It is suspected that an acid-base titrimetric method has a significant indicator\n",
    "error and thus tends to give results with a positive systematic error (i.e. positive\n",
    "bias). To test this an exactly 0.1 M solution of acid is used to titrate 25.00 ml of an\n",
    "exactly 0.1 M solution of alkali, with the following results (ml):\n",
    "25.06 25.18 24.87 25.51 25.34 25.41\n",
    "Test for positive bias in these results."
   ]
  },
  {
   "cell_type": "code",
   "execution_count": 7,
   "id": "b2daa8aa",
   "metadata": {},
   "outputs": [
    {
     "name": "stdout",
     "output_type": "stream",
     "text": [
      "Sample Mean: 25.2283\n",
      "t-Statistic: 2.3473\n",
      "Degrees of Freedom: 5\n",
      "p-Value: 0.0329\n",
      "Reject the null hypothesis: There is significant evidence of a positive bias.\n"
     ]
    }
   ],
   "source": [
    "import numpy as np\n",
    "from scipy.stats import t\n",
    "\n",
    "# Given data\n",
    "volumes = np.array([25.06, 25.18, 24.87, 25.51, 25.34, 25.41])\n",
    "mu = 25.00  # Expected volume\n",
    "\n",
    "# Calculate the sample mean and standard deviation\n",
    "sample_mean = np.mean(volumes)\n",
    "sample_std = np.std(volumes, ddof=1)\n",
    "n = len(volumes)\n",
    "\n",
    "# Calculate the t-statistic\n",
    "t_stat = (sample_mean - mu) / (sample_std / np.sqrt(n))\n",
    "\n",
    "# Degrees of freedom\n",
    "df = n - 1\n",
    "\n",
    "# Calculate the p-value (for a one-tailed test)\n",
    "p_value = t.sf(t_stat, df)\n",
    "\n",
    "# Print results\n",
    "print(f\"Sample Mean: {sample_mean:.4f}\")\n",
    "print(f\"t-Statistic: {t_stat:.4f}\")\n",
    "print(f\"Degrees of Freedom: {df}\")\n",
    "print(f\"p-Value: {p_value:.4f}\")\n",
    "\n",
    "# Decision making\n",
    "if p_value < 0.05:\n",
    "    print(\"Reject the null hypothesis: There is significant evidence of a positive bias.\")\n",
    "else:\n",
    "    print(\"Fail to reject the null hypothesis: There is no significant evidence of a positive bias.\")\n"
   ]
  },
  {
   "cell_type": "markdown",
   "id": "b7c01d3c",
   "metadata": {},
   "source": [
    "\n",
    "Example 3.6.1\n",
    "A proposed method for the determination of the chemical oxygen demand of\n",
    "wastewater was compared with the standard (mercury salt) method. The following\n",
    "results were obtained for a sewage effluent sample:\n",
    "\n",
    "\n",
    "Mean (mg l-1) --------------Standard deviation (mg l-1)\n",
    "\n",
    "\n",
    "Standard method 72 ----------3.31\n",
    "\n",
    "\n",
    "Proposed method 72 -------------1.51\n",
    "\n",
    "\n",
    "For each method eight determinations were made.\n",
    "(Ballinger, D., Lloyd, A., and Morrish, A., 1982, Analyst, 107: 1047)\n",
    "Is the precision of the proposed method significantly greater than that of the\n",
    "standard method?"
   ]
  },
  {
   "cell_type": "code",
   "execution_count": 8,
   "id": "f576fffe",
   "metadata": {},
   "outputs": [
    {
     "name": "stdout",
     "output_type": "stream",
     "text": [
      "F-statistic: 4.8051\n",
      "Degrees of Freedom: df1=7, df2=7\n",
      "p-Value: 0.0276\n",
      "Reject the null hypothesis: The precision of the proposed method is significantly greater.\n"
     ]
    }
   ],
   "source": [
    "from scipy.stats import f\n",
    "\n",
    "# Variances (squared standard deviations)\n",
    "var_standard = 3.31**2\n",
    "var_proposed = 1.51**2\n",
    "\n",
    "# Sample sizes\n",
    "n_standard = 8\n",
    "n_proposed = 8\n",
    "\n",
    "# Calculate the F-statistic\n",
    "F_stat = var_standard / var_proposed\n",
    "\n",
    "# Degrees of freedom\n",
    "df1 = n_standard - 1  # DF for the standard method\n",
    "df2 = n_proposed - 1  # DF for the proposed method\n",
    "\n",
    "# Calculate the p-value for a one-tailed test (right tail)\n",
    "p_value = f.sf(F_stat, df1, df2)  # Survival function (1-CDF)\n",
    "\n",
    "# Print results\n",
    "print(f\"F-statistic: {F_stat:.4f}\")\n",
    "print(f\"Degrees of Freedom: df1={df1}, df2={df2}\")\n",
    "print(f\"p-Value: {p_value:.4f}\")\n",
    "\n",
    "# Decision making\n",
    "if p_value < 0.05:\n",
    "    print(\"Reject the null hypothesis: The precision of the proposed method is significantly greater.\")\n",
    "else:\n",
    "    print(\"Fail to reject the null hypothesis: The precision of the proposed method is not significantly greater.\")\n"
   ]
  },
  {
   "cell_type": "markdown",
   "id": "1aca8380",
   "metadata": {},
   "source": [
    "Example 3.6.2\n",
    "In Example 3.3.1 it was assumed that the variances of the two methods for\n",
    "determining chromium in rye grass did not differ significantly. This assumption\n",
    "can now be tested. The standard deviations were 0.28 and 0.31 (each\n",
    "obtained from five measurements on a specimen of a particular plant)."
   ]
  },
  {
   "cell_type": "code",
   "execution_count": 9,
   "id": "dbd53484",
   "metadata": {},
   "outputs": [
    {
     "name": "stdout",
     "output_type": "stream",
     "text": [
      "F-statistic: 1.2258\n",
      "Degrees of Freedom: df1=4, df2=4\n",
      "p-Value: 0.8484\n",
      "Fail to reject the null hypothesis: There is no significant difference in variances.\n"
     ]
    }
   ],
   "source": [
    "from scipy.stats import f\n",
    "\n",
    "# Standard deviations\n",
    "s1 = 0.28\n",
    "s2 = 0.31\n",
    "\n",
    "# Calculate variances\n",
    "var1 = s1**2\n",
    "var2 = s2**2\n",
    "\n",
    "# Number of measurements\n",
    "n = 5\n",
    "\n",
    "# F-statistic\n",
    "F_stat = max(var1, var2) / min(var1, var2)\n",
    "\n",
    "# Degrees of freedom\n",
    "df1 = n - 1\n",
    "df2 = n - 1\n",
    "\n",
    "# P-value for the F-test (two-tailed)\n",
    "p_value = 2 * min(f.cdf(F_stat, df1, df2), 1 - f.cdf(F_stat, df1, df2))\n",
    "\n",
    "# Output results\n",
    "print(f\"F-statistic: {F_stat:.4f}\")\n",
    "print(f\"Degrees of Freedom: df1={df1}, df2={df2}\")\n",
    "print(f\"p-Value: {p_value:.4f}\")\n",
    "\n",
    "# Decision based on p-value\n",
    "if p_value < 0.05:\n",
    "    print(\"Reject the null hypothesis: The variances are significantly different.\")\n",
    "else:\n",
    "    print(\"Fail to reject the null hypothesis: There is no significant difference in variances.\")\n"
   ]
  },
  {
   "cell_type": "markdown",
   "id": "2fa38d08",
   "metadata": {},
   "source": [
    "Example 3.7.1\n",
    "The following values were obtained for the nitrite concentration (mg l-1) in a\n",
    "sample of river water:\n",
    "0.403, 0.410, 0.401, 0.380\n",
    "The last measurement is noticeably lower than the others and is thus suspect:\n",
    "should it be rejected?"
   ]
  },
  {
   "cell_type": "code",
   "execution_count": 10,
   "id": "5dd6f407",
   "metadata": {},
   "outputs": [
    {
     "name": "stdout",
     "output_type": "stream",
     "text": [
      "Calculated Q: 0.233\n",
      "Critical Q: 0.765\n",
      "Do not reject the suspected value as an outlier.\n"
     ]
    }
   ],
   "source": [
    "import numpy as np\n",
    "\n",
    "# Data\n",
    "data = np.array([0.403, 0.410, 0.401, 0.380])\n",
    "\n",
    "# Sort data to facilitate calculations\n",
    "sorted_data = np.sort(data)\n",
    "\n",
    "# Calculate Q\n",
    "range_of_data = sorted_data[-1] - sorted_data[0]\n",
    "gap = sorted_data[-1] - sorted_data[-2]  # If suspecting the highest value\n",
    "Q = gap / range_of_data\n",
    "\n",
    "# Critical Q value for n=4 at 90% confidence level (commonly used)\n",
    "Q_critical = 0.765  # This value can be found in statistical tables for Dixon's Q test\n",
    "\n",
    "# Output results\n",
    "print(f\"Calculated Q: {Q:.3f}\")\n",
    "print(f\"Critical Q: {Q_critical}\")\n",
    "\n",
    "# Decision\n",
    "if Q > Q_critical:\n",
    "    print(\"Reject the suspected value as an outlier.\")\n",
    "else:\n",
    "    print(\"Do not reject the suspected value as an outlier.\")\n"
   ]
  },
  {
   "cell_type": "code",
   "execution_count": 11,
   "id": "b974b98e",
   "metadata": {},
   "outputs": [
    {
     "name": "stdout",
     "output_type": "stream",
     "text": [
      "Grubbs' Statistic: 1.432\n",
      "Critical Value for G: 1.481\n",
      "Fail to reject the null hypothesis: There is no significant outlier.\n"
     ]
    }
   ],
   "source": [
    "import numpy as np\n",
    "from scipy.stats import t\n",
    "\n",
    "# Given data\n",
    "data = np.array([0.403, 0.410, 0.401, 0.380])\n",
    "\n",
    "# Calculate mean and standard deviation\n",
    "mean_data = np.mean(data)\n",
    "std_dev_data = np.std(data, ddof=1)\n",
    "\n",
    "# Calculate the Grubbs' statistic\n",
    "max_deviation = np.max(np.abs(data - mean_data))\n",
    "G = max_deviation / std_dev_data\n",
    "\n",
    "# Degrees of freedom\n",
    "n = len(data)\n",
    "\n",
    "# Critical value from the t-distribution\n",
    "t_value = t.ppf(1 - 0.05 / (2 * n), n - 2)  # Two-tailed test and alpha adjusted for 2 tails\n",
    "G_critical = (n - 1) / np.sqrt(n) * np.sqrt(t_value**2 / (n - 2 + t_value**2))\n",
    "\n",
    "# Output results\n",
    "print(f\"Grubbs' Statistic: {G:.3f}\")\n",
    "print(f\"Critical Value for G: {G_critical:.3f}\")\n",
    "\n",
    "# Decision\n",
    "if G > G_critical:\n",
    "    print(\"Reject the null hypothesis: The suspected value is an outlier.\")\n",
    "else:\n",
    "    print(\"Fail to reject the null hypothesis: There is no significant outlier.\")\n"
   ]
  },
  {
   "cell_type": "code",
   "execution_count": 17,
   "id": "5862b1f8",
   "metadata": {},
   "outputs": [
    {
     "data": {
      "image/png": "[encoded data removed]",
      "text/plain": [
       "<Figure size 576x432 with 1 Axes>"
      ]
     },
     "metadata": {
      "needs_background": "light"
     },
     "output_type": "display_data"
    }
   ],
   "source": [
    "import numpy as np\n",
    "import matplotlib.pyplot as plt\n",
    "from scipy import stats\n",
    "\n",
    "# Given data\n",
    "data = np.array([25.13, 25.02, 25.11, 25.07, 25.03, 24.97, 25.14, 25.09])\n",
    "\n",
    "# Sort the data\n",
    "data_sorted = np.sort(data)\n",
    "\n",
    "# Generate theoretical quantiles\n",
    "norm_quantiles = stats.probplot(data_sorted, dist=\"norm\", plot=None)[0][0]\n",
    "\n",
    "# Plotting the quantiles of the data against the theoretical quantiles\n",
    "plt.figure(figsize=(8, 6))\n",
    "plt.plot(norm_quantiles, data_sorted, 'o', label='Data Quantiles')\n",
    "plt.plot(norm_quantiles, norm_quantiles * np.std(data_sorted) + np.mean(data_sorted), 'r-', label='Theoretical Line')\n",
    "plt.xlabel('Theoretical Quantiles')\n",
    "plt.ylabel('Ordered Values')\n",
    "plt.title('Normal Probability Plot')\n",
    "plt.legend()\n",
    "plt.grid(True)\n",
    "plt.show()\n"
   ]
  },
  {
   "cell_type": "markdown",
   "id": "6c0e1022",
   "metadata": {},
   "source": [
    "# Kolmogorov-Smirnov test"
   ]
  },
  {
   "cell_type": "code",
   "execution_count": 19,
   "id": "f9b0043c",
   "metadata": {},
   "outputs": [
    {
     "name": "stdout",
     "output_type": "stream",
     "text": [
      "KS Statistic: 0.14082612082605328\n",
      "p-value: 0.9898474554176184\n"
     ]
    },
    {
     "data": {
      "image/png": "[encoded data removed]",
      "text/plain": [
       "<Figure size 576x432 with 1 Axes>"
      ]
     },
     "metadata": {
      "needs_background": "light"
     },
     "output_type": "display_data"
    }
   ],
   "source": [
    "import numpy as np\n",
    "import matplotlib.pyplot as plt\n",
    "from scipy.stats import kstest, norm\n",
    "\n",
    "# Sample data\n",
    "# data = np.array([109, 89, 99, 99, 107, 111, 86, 74, 115, 107, 134, 113, 110, 88, 104])\n",
    "data = np.array([25.13, 25.02, 25.11, 25.07, 25.03, 24.97, 25.14, 25.09])\n",
    "\n",
    "# Standardize the data\n",
    "data_mean = np.mean(data)\n",
    "data_std = np.std(data)\n",
    "data_z = (data - data_mean) / data_std\n",
    "\n",
    "# Perform Kolmogorov-Smirnov test\n",
    "ks_statistic, p_value = kstest(data_z, 'norm')\n",
    "\n",
    "# Output results\n",
    "print(f\"KS Statistic: {ks_statistic}\")\n",
    "print(f\"p-value: {p_value}\")\n",
    "\n",
    "# Plotting ECDF and CDF\n",
    "# Calculate ECDF\n",
    "sorted_data = np.sort(data_z)\n",
    "ecdf = np.arange(1, len(sorted_data) + 1) / len(sorted_data)\n",
    "\n",
    "# Generate points on the CDF for the standard normal distribution\n",
    "cdf_x = np.linspace(min(sorted_data), max(sorted_data), 1000)\n",
    "cdf_y = norm.cdf(cdf_x)\n",
    "\n",
    "# Plot both ECDF and CDF\n",
    "plt.figure(figsize=(8, 6))\n",
    "plt.step(sorted_data, ecdf, label='ECDF', where='post')\n",
    "plt.plot(cdf_x, cdf_y, label='CDF of Standard Normal')\n",
    "plt.title('Kolmogorov-Smirnov Test for Normality')\n",
    "plt.xlabel('Standard Normal Quantiles')\n",
    "plt.ylabel('Cumulative Probability')\n",
    "plt.legend()\n",
    "plt.grid(True)\n",
    "plt.show()\n"
   ]
  },
  {
   "cell_type": "code",
   "execution_count": null,
   "id": "3c279ed8",
   "metadata": {},
   "outputs": [],
   "source": []
  }
 ],
 "metadata": {
  "kernelspec": {
   "display_name": "Python 3 (ipykernel)",
   "language": "python",
   "name": "python3"
  },
  "language_info": {
   "codemirror_mode": {
    "name": "ipython",
    "version": 3
   },
   "file_extension": ".py",
   "mimetype": "text/x-python",
   "name": "python",
   "nbconvert_exporter": "python",
   "pygments_lexer": "ipython3",
   "version": "3.9.7"
  }
 },
 "nbformat": 4,
 "nbformat_minor": 5
}
